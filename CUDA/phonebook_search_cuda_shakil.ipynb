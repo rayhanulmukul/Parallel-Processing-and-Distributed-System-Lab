{
  "nbformat": 4,
  "nbformat_minor": 0,
  "metadata": {
    "colab": {
      "provenance": [],
      "gpuType": "T4"
    },
    "kernelspec": {
      "name": "python3",
      "display_name": "Python 3"
    },
    "language_info": {
      "name": "python"
    },
    "accelerator": "GPU"
  },
  "cells": [
    {
      "cell_type": "code",
      "execution_count": 24,
      "metadata": {
        "colab": {
          "base_uri": "https://localhost:8080/"
        },
        "id": "XmwN2pdFSJxJ",
        "outputId": "03859565-efdc-4eda-f33b-875d7b39f024"
      },
      "outputs": [
        {
          "output_type": "stream",
          "name": "stdout",
          "text": [
            "Overwriting phonebook_search.cu\n"
          ]
        }
      ],
      "source": [
        "%%writefile phonebook_search.cu\n",
        "#include <bits/stdc++.h>\n",
        "using namespace std;\n",
        "#include <cuda.h>\n",
        "\n",
        "using namespace std;\n",
        "\n",
        "struct Contact {\n",
        "  char id[50];\n",
        "  char name[50];\n",
        "  char number[50];\n",
        "};\n",
        "\n",
        "__device__ bool check(char* str1, char* str2, int len) {\n",
        "  for(int i = 0; str1[i] != '\\0'; i++) {\n",
        "    int j = 0;\n",
        "    while(str1[i+j] != '\\0' && str2[j] != '\\0' && str1[i+j] == str2[j]) {\n",
        "      j++;\n",
        "    }\n",
        "    if(j == len-1) {\n",
        "      return true;\n",
        "    }\n",
        "  }\n",
        "  return false;\n",
        "}\n",
        "\n",
        "__global__ void searchPhonebook(Contact* phonebook, int num_contacts, char* search_name, int name_length) {\n",
        "  int idx = blockIdx.x * blockDim.x + threadIdx.x;\n",
        "  if(idx < num_contacts) {\n",
        "    if(check(phonebook[idx].name, search_name, name_length)) {\n",
        "      printf(\"%s %s %s\\n\", phonebook[idx].id, phonebook[idx].name, phonebook[idx].number);\n",
        "    }\n",
        "  }\n",
        "}\n",
        "\n",
        "\n",
        "int main(int argc, char* argv[]) {\n",
        "\n",
        "  if(argc != 3) {\n",
        "    cerr << \"Usage: \" << argv[0] << \"  \" << endl;\n",
        "    return 1;\n",
        "  }\n",
        "\n",
        "  string search_name = argv[1];\n",
        "  int num_threads = atoi(argv[2]);\n",
        "  // Mount Google Drive and copy the location\n",
        "  string file_name = \"latest_dataset.txt\";\n",
        "\n",
        "  vector <Contact> phonebook;\n",
        "\n",
        "  ifstream file(file_name);\n",
        "  if(!file.is_open()) {\n",
        "    cerr << \"Error opening file: \" << file_name << endl;\n",
        "    return 1;\n",
        "  }\n",
        "  else {\n",
        "    Contact contact;\n",
        "    string line;\n",
        "    while(getline(file, line)) {\n",
        "      // Format: \"id\",\"name\".\"phone_number\"\n",
        "      int pos = line.find(\",\");\n",
        "      strcpy(contact.id, line.substr(1, pos-2).c_str());\n",
        "      line = line.substr(pos+1);\n",
        "      pos = line.find(\",\");\n",
        "      strcpy(contact.name, line.substr(1, pos-2).c_str());\n",
        "      strcpy(contact.number, line.substr(pos+2, line.size()-pos-4).c_str());\n",
        "      phonebook.push_back(contact);\n",
        "\n",
        "\n",
        "      /*\n",
        "\n",
        "      // Format: \"name\".\"phone_number\"\n",
        "      int pos = line.find(\",\");\n",
        "      // Extract name (without the quotes)\n",
        "      strcpy(contact.name, line.substr(1, pos - 2).c_str());\n",
        "\n",
        "      // Extract number (also without quotes)\n",
        "      strcpy(contact.number, line.substr(pos + 2, line.size() - pos - 4).c_str());\n",
        "\n",
        "      phonebook.push_back(contact);\n",
        "      */\n",
        "    }\n",
        "    file.close();\n",
        "  }\n",
        "  int num_contacts = phonebook.size();\n",
        "  Contact* device_phonebook;\n",
        "  cudaMalloc((void**)&device_phonebook, sizeof(Contact)*num_contacts);\n",
        "  cudaMemcpy(device_phonebook, phonebook.data(), sizeof(Contact)*num_contacts, cudaMemcpyHostToDevice);\n",
        "\n",
        "  int name_length = search_name.length() + 1;\n",
        "  char* device_search_name;\n",
        "  cudaMalloc((void**)&device_search_name, name_length);\n",
        "  cudaMemcpy(device_search_name, search_name.c_str(), name_length, cudaMemcpyHostToDevice);\n",
        "\n",
        "  for(int i = 0; i < num_contacts; i += num_threads) {\n",
        "    int thread_count = min(num_contacts-i, num_threads);\n",
        "    searchPhonebook<<<1, thread_count>>>(device_phonebook + i, thread_count, device_search_name, name_length);\n",
        "    cudaDeviceSynchronize();\n",
        "  }\n",
        "\n",
        "  cudaFree(device_phonebook);\n",
        "  cudaFree(device_search_name);\n",
        "\n",
        "  return 0;\n",
        "}"
      ]
    },
    {
      "cell_type": "code",
      "source": [
        "!nvcc -arch=sm_75 phonebook_search.cu -o phonebook_search"
      ],
      "metadata": {
        "id": "g_J0SIx9SStA"
      },
      "execution_count": 25,
      "outputs": []
    },
    {
      "cell_type": "code",
      "source": [
        "!time ./phonebook_search SAKI 2"
      ],
      "metadata": {
        "colab": {
          "base_uri": "https://localhost:8080/"
        },
        "id": "rvWlL2UDSZiV",
        "outputId": "cd7c31b5-5ebd-4263-e97d-78a3758f87ba"
      },
      "execution_count": 46,
      "outputs": [
        {
          "output_type": "stream",
          "name": "stdout",
          "text": [
            "8 SAKIA RAHMAN 017 22 30\n",
            "190 MD.SAKIL 011 17 56\n",
            "695 MD.SAKIB 015 08 24\n",
            "955 MD. SAKIN 017 61 68\n",
            "1226 SAKIBUL HASAN 013 72 01\n",
            "1884 SAKINA BEGUM 017 26 78\n",
            "1934 SAKIB HOSSAIN 016 64 16\n",
            "2055 MD. SAKIL AHAMMED 011 18 80\n",
            "2152 MD.SAKIB HOSSEN 012 52 50\n",
            "2322 MD. SAKIL 015 38 52\n",
            "2696 MD. SAKIL 011 52 45\n",
            "2700 MD. SAKIL 016 01 36\n",
            "2962 MD. SAKIL 016 00 28\n",
            "3154 MD. SAKIB 015 17 04\n",
            "3441 MD. SAKIB 018 34 15\n",
            "3442 MD. SAKIB 011 78 06\n",
            "3907 MD. SAKIL 012 05 61\n",
            "4049 MD. SAKIL 013 86 77\n",
            "4175 MD. SAKIL 012 83 27\n",
            "4476 MD. SAKIL 012 27 48\n",
            "\n",
            "real\t0m0.158s\n",
            "user\t0m0.050s\n",
            "sys\t0m0.102s\n"
          ]
        }
      ]
    }
  ]
}