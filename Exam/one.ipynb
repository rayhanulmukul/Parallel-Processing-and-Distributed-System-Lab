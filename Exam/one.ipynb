{
  "cells": [
    {
      "cell_type": "code",
      "execution_count": 27,
      "metadata": {
        "colab": {
          "base_uri": "https://localhost:8080/"
        },
        "id": "8DLF6EuH2zyW",
        "outputId": "f92820a4-2d4f-4df1-8895-d0cd2fa880b6"
      },
      "outputs": [
        {
          "output_type": "stream",
          "name": "stdout",
          "text": [
            "Overwriting matrixmul.cu\n"
          ]
        }
      ],
      "source": [
        "%%writefile matrixmul.cu\n",
        "#include <stdio.h>\n",
        "#include <stdlib.h>\n",
        "#include <cuda.h>\n",
        "#include <fstream>\n",
        "using namespace std;\n",
        "\n",
        "__global__ void matrixMultiply(long long *A, long long *B, long long *R, int m, int n, int p) {\n",
        "    int mat_id = blockIdx.z;\n",
        "    int row = blockIdx.y * blockDim.y + threadIdx.y;\n",
        "    int col = blockIdx.x * blockDim.x + threadIdx.x;\n",
        "\n",
        "    if(row < m && col < p) {\n",
        "        long long sum = 0;\n",
        "        for(int i = 0; i < n; ++i) {\n",
        "            long long a = A[mat_id * m * n + row * n + i];\n",
        "            long long b = B[mat_id * n * p + i * p + col];\n",
        "            sum += a * b;\n",
        "        }\n",
        "        R[mat_id * m * p + row * p + col] = sum;\n",
        "    }\n",
        "}\n",
        "\n",
        "int main(int argc, char* argv[]) {\n",
        "    if (argc != 6) {\n",
        "        printf(\"Usage: %s <T> <K> <M> <N> <P>\\n\", argv[0]);\n",
        "        return -1;\n",
        "    }\n",
        "\n",
        "    int T = atoi(argv[1]);\n",
        "    int K = atoi(argv[2]);\n",
        "    int M = atoi(argv[3]);\n",
        "    int N = atoi(argv[4]);\n",
        "    int P = atoi(argv[5]);\n",
        "\n",
        "    size_t sizeA = K * M * N * sizeof(long long);\n",
        "    size_t sizeB = K * N * P * sizeof(long long);\n",
        "    size_t sizeR = K * M * P * sizeof(long long);\n",
        "\n",
        "    long long *h_A = (long long*)malloc(sizeA);\n",
        "    long long *h_B = (long long*)malloc(sizeB);\n",
        "    long long *h_R = (long long*)malloc(sizeR);\n",
        "\n",
        "    for(int k = 0; k < K; k++) {\n",
        "        for(int i = 0; i < M; i++) {\n",
        "            for(int j = 0; j < N; j++) {\n",
        "                h_A[k * M * N + i * N + j] = rand() % 10;\n",
        "            }\n",
        "        }\n",
        "        for(int i = 0; i < N; i++) {\n",
        "            for(int j = 0; j < P; j++) {\n",
        "                h_B[k * N * P + i * P + j] = rand() % 10;\n",
        "            }\n",
        "        }\n",
        "    }\n",
        "\n",
        "    long long *d_A, *d_B, *d_R;\n",
        "    cudaMalloc(&d_A, sizeA);\n",
        "    cudaMalloc(&d_B, sizeB);\n",
        "    cudaMalloc(&d_R, sizeR);\n",
        "\n",
        "    cudaMemcpy(d_A, h_A, sizeA, cudaMemcpyHostToDevice);\n",
        "    cudaMemcpy(d_B, h_B, sizeB, cudaMemcpyHostToDevice);\n",
        "\n",
        "    dim3 threadsPerBlock(T, T);\n",
        "    dim3 numBlocks((P + T - 1) / T, (M + T - 1) / T, K);\n",
        "\n",
        "    cudaEvent_t start, stop;\n",
        "    cudaEventCreate(&start);\n",
        "    cudaEventCreate(&stop);\n",
        "    cudaEventRecord(start);\n",
        "\n",
        "    for (int iter = 0; iter < 100; iter++) {\n",
        "        matrixMultiply<<<numBlocks, threadsPerBlock>>>(d_A, d_B, d_R, M, N, P);\n",
        "    }\n",
        "\n",
        "    cudaEventRecord(stop);\n",
        "    cudaEventSynchronize(stop);\n",
        "    float milliseconds = 0;\n",
        "    cudaEventElapsedTime(&milliseconds, start, stop);\n",
        "\n",
        "    cudaMemcpy(h_R, d_R, sizeR, cudaMemcpyDeviceToHost);\n",
        "\n",
        "    ofstream out(\"output.txt\");\n",
        "\n",
        "    out << \"Matrix A[0] (\" << M << \"x\" << N << \"):\\n\";\n",
        "    for(int i = 0; i < M; i++) {\n",
        "        for(int j = 0; j < N; j++) {\n",
        "            out << h_A[0 * M * N + i * N + j] << \" \";\n",
        "        }\n",
        "        out << \"\\n\";\n",
        "    }\n",
        "\n",
        "    out << \"\\nMatrix B[0] (\" << N << \"x\" << P << \"):\\n\";\n",
        "    for(int i = 0; i < N; i++) {\n",
        "        for(int j = 0; j < P; j++) {\n",
        "            out << h_B[0 * N * P + i * P + j] << \" \";\n",
        "        }\n",
        "        out << \"\\n\";\n",
        "    }\n",
        "\n",
        "    out << \"\\n C[0] (\" << M << \"x\" << P << \"):\\n\";\n",
        "    for(int i = 0; i < M; i++) {\n",
        "        for(int j = 0; j < P; j++) {\n",
        "            out << h_R[0 * M * P + i * P + j] << \" \";\n",
        "        }\n",
        "        out << \"\\n\";\n",
        "    }\n",
        "\n",
        "    out.close();\n",
        "\n",
        "    cudaFree(d_A);\n",
        "    cudaFree(d_B);\n",
        "    cudaFree(d_R);\n",
        "    free(h_A);\n",
        "    free(h_B);\n",
        "    free(h_R);\n",
        "\n",
        "    return 0;\n",
        "}"
      ]
    },
    {
      "cell_type": "code",
      "execution_count": 28,
      "metadata": {
        "id": "dEEkxf5r28iz"
      },
      "outputs": [],
      "source": [
        "!nvcc -arch=sm_75 matrixmul.cu -o matrixmul"
      ]
    },
    {
      "cell_type": "code",
      "execution_count": 29,
      "metadata": {
        "id": "uI8gATUi3qCO",
        "colab": {
          "base_uri": "https://localhost:8080/"
        },
        "outputId": "28e830d4-4e75-430e-d77f-66a56d1b1052"
      },
      "outputs": [
        {
          "output_type": "stream",
          "name": "stdout",
          "text": [
            "\n",
            "real\t0m0.151s\n",
            "user\t0m0.038s\n",
            "sys\t0m0.109s\n"
          ]
        }
      ],
      "source": [
        "!time ./matrixmul 4 100 40 40 40"
      ]
    },
    {
      "cell_type": "code",
      "source": [
        "!time ./matrixmul 2 100 40 40 40"
      ],
      "metadata": {
        "colab": {
          "base_uri": "https://localhost:8080/"
        },
        "id": "HFgka8hz_DLN",
        "outputId": "0498f300-1aaa-4a0c-90a3-c0427d6eb37a"
      },
      "execution_count": 25,
      "outputs": [
        {
          "output_type": "stream",
          "name": "stdout",
          "text": [
            "\n",
            "real\t0m0.178s\n",
            "user\t0m0.062s\n",
            "sys\t0m0.111s\n"
          ]
        }
      ]
    },
    {
      "cell_type": "code",
      "source": [
        "!time ./matrixmul 1 100 40 40 40"
      ],
      "metadata": {
        "colab": {
          "base_uri": "https://localhost:8080/"
        },
        "id": "l-FKFAku_Lw8",
        "outputId": "db160a53-cbb4-44fe-a9f4-7f31169ce025"
      },
      "execution_count": 26,
      "outputs": [
        {
          "output_type": "stream",
          "name": "stdout",
          "text": [
            "\n",
            "real\t0m0.291s\n",
            "user\t0m0.175s\n",
            "sys\t0m0.108s\n"
          ]
        }
      ]
    },
    {
      "cell_type": "code",
      "source": [
        "!time ./matrixmul 1 1 2 2 2"
      ],
      "metadata": {
        "colab": {
          "base_uri": "https://localhost:8080/"
        },
        "id": "LbeQS7vWD-KS",
        "outputId": "6446c8e4-1570-4574-c144-8fe9400ff870"
      },
      "execution_count": 30,
      "outputs": [
        {
          "output_type": "stream",
          "name": "stdout",
          "text": [
            "\n",
            "real\t0m0.123s\n",
            "user\t0m0.014s\n",
            "sys\t0m0.105s\n"
          ]
        }
      ]
    },
    {
      "cell_type": "code",
      "source": [],
      "metadata": {
        "id": "Rit-TpyED-id"
      },
      "execution_count": null,
      "outputs": []
    }
  ],
  "metadata": {
    "accelerator": "GPU",
    "colab": {
      "gpuType": "T4",
      "provenance": []
    },
    "kernelspec": {
      "display_name": "Python 3",
      "name": "python3"
    },
    "language_info": {
      "name": "python"
    }
  },
  "nbformat": 4,
  "nbformat_minor": 0
}